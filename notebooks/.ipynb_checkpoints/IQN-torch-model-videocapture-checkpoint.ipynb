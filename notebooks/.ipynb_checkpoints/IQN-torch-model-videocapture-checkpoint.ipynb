{
 "cells": [
  {
   "cell_type": "code",
   "execution_count": 2,
   "id": "aabfa374-7fac-4423-9e6b-ca41432560e3",
   "metadata": {},
   "outputs": [],
   "source": [
    "import torch\n",
    "import argparse\n",
    "import json\n",
    "import os\n",
    "import gym\n",
    "from gym.wrappers.atari_preprocessing import AtariPreprocessing\n",
    "from gym.wrappers.frame_stack import FrameStack\n",
    "from gym.wrappers.monitoring.video_recorder import VideoRecorder\n",
    "\n",
    "import numpy as np\n",
    "import torch\n",
    "from torch import nn\n",
    "\n",
    "from pfrl.agents.iqn import IQN, ImplicitQuantileQFunction, CosineBasisLinear\n",
    "from pfrl.explorers import LinearDecayEpsilonGreedy\n",
    "from pfrl.replay_buffers import ReplayBuffer"
   ]
  },
  {
   "cell_type": "code",
   "execution_count": 3,
   "id": "9eedcf22-23f9-43e4-beae-2c985d9e761c",
   "metadata": {},
   "outputs": [],
   "source": [
    "#model = torch.load(\"model.pt\", map_location=torch.device('cpu'))"
   ]
  },
  {
   "cell_type": "code",
   "execution_count": 4,
   "id": "2c41a33f-985d-4f82-a5a8-f53ed8927027",
   "metadata": {},
   "outputs": [],
   "source": [
    "n_actions = 6"
   ]
  },
  {
   "cell_type": "code",
   "execution_count": 5,
   "id": "08af2b20-77fb-4a19-8f1a-5971d5d25fb5",
   "metadata": {},
   "outputs": [],
   "source": [
    "q_func = ImplicitQuantileQFunction(\n",
    "    psi=nn.Sequential(\n",
    "        nn.Conv2d(4, 32, 8, stride=4),\n",
    "        nn.ReLU(),\n",
    "        nn.Conv2d(32, 64, 4, stride=2),\n",
    "        nn.ReLU(),\n",
    "        nn.Conv2d(64, 64, 3, stride=1),\n",
    "        nn.ReLU(),\n",
    "        nn.Flatten(),\n",
    "    ),\n",
    "    phi=nn.Sequential(\n",
    "        CosineBasisLinear(64, 3136),\n",
    "        nn.ReLU(),\n",
    "    ),\n",
    "    f=nn.Sequential(\n",
    "        nn.Linear(3136, 512),\n",
    "        nn.ReLU(),\n",
    "        nn.Linear(512, n_actions),\n",
    "    ),\n",
    ")\n",
    "\n",
    "# Use the same hyper parameters as https://arxiv.org/abs/1710.10044\n",
    "opt = torch.optim.Adam(q_func.parameters())\n",
    "\n",
    "rbuf = ReplayBuffer(10**6)\n",
    "\n",
    "explorer = LinearDecayEpsilonGreedy(\n",
    "    0,\n",
    "    0,\n",
    "    10_000,\n",
    "    lambda: np.random.randint(n_actions),\n",
    ")\n",
    "\n",
    "def phi(x):\n",
    "    # Feature extractor\n",
    "    return np.asarray(x, dtype=np.float32) / 255\n",
    "\n",
    "agent = IQN(\n",
    "    q_func,\n",
    "    opt,\n",
    "    rbuf,\n",
    "    gpu=-1,\n",
    "    gamma=0.99,\n",
    "    explorer=explorer,\n",
    "    phi=phi,\n",
    ")"
   ]
  },
  {
   "cell_type": "code",
   "execution_count": 6,
   "id": "06af4bf3-ae01-47fc-a058-0e217c6e5357",
   "metadata": {},
   "outputs": [],
   "source": [
    "agent.load(\"best\")"
   ]
  },
  {
   "cell_type": "code",
   "execution_count": 7,
   "id": "afeb0bab-40cb-424c-9429-9c69b958c42b",
   "metadata": {},
   "outputs": [],
   "source": [
    "def make_env(): \n",
    "    env = gym.make(\"SpaceInvadersNoFrameskip-v4\", render_mode=\"human\")\n",
    "    env = AtariPreprocessing(env)\n",
    "    env = FrameStack(env, 4)\n",
    "    return env"
   ]
  },
  {
   "cell_type": "code",
   "execution_count": 8,
   "id": "b4f97b0f-d44b-41f0-94f7-1545bbdb1deb",
   "metadata": {},
   "outputs": [
    {
     "name": "stderr",
     "output_type": "stream",
     "text": [
      "A.L.E: Arcade Learning Environment (version 0.7.5+db37282)\n",
      "[Powered by Stella]\n",
      "/Users/olivergiles/.pyenv/versions/3.8.12/envs/lewagon/lib/python3.8/site-packages/gym/utils/passive_env_checker.py:97: UserWarning: \u001b[33mWARN: We recommend you to use a symmetric and normalized Box action space (range=[-1, 1]) https://stable-baselines3.readthedocs.io/en/master/guide/rl_tips.html\u001b[0m\n",
      "  logger.warn(\n"
     ]
    }
   ],
   "source": [
    "env = make_env()"
   ]
  },
  {
   "cell_type": "code",
   "execution_count": null,
   "id": "912339dd-116d-4e79-8309-9f676644db82",
   "metadata": {},
   "outputs": [
    {
     "name": "stderr",
     "output_type": "stream",
     "text": [
      "/Users/olivergiles/.pyenv/versions/3.8.12/envs/lewagon/lib/python3.8/site-packages/gym/utils/passive_env_checker.py:305: UserWarning: \u001b[33mWARN: No render fps was declared in the environment (env.metadata['render_fps'] is None or not defined), rendering may occur at inconsistent fps\u001b[0m\n",
      "  logger.warn(\n"
     ]
    }
   ],
   "source": [
    "path_of_video_with_name = \"iqn_videotest2.mp4\"\n",
    "state = env.reset()\n",
    "video_recorder = None\n",
    "video_recorder = VideoRecorder(env, path_of_video_with_name, enabled=True)\n",
    "done = False\n",
    "obs = env.reset()\n",
    "state = np.asarray(obs)\n",
    "while not done:\n",
    "    video_recorder.capture_frame()\n",
    "    action = agent.act(state)\n",
    "    obs, rewards, done, info = env.step(action)\n",
    "    state = np.asarray(obs)\n",
    "\n",
    "print(\"Saved video.\")\n",
    "\n",
    "video_recorder.close()\n",
    "video_recorder.enabled = False\n",
    "env.close()"
   ]
  },
  {
   "cell_type": "code",
   "execution_count": null,
   "id": "641adfaf-1a9d-4c49-af55-8cb883ff181d",
   "metadata": {},
   "outputs": [],
   "source": []
  }
 ],
 "metadata": {
  "kernelspec": {
   "display_name": "Python 3.8.12 64-bit ('lewagon')",
   "language": "python",
   "name": "python3"
  },
  "language_info": {
   "codemirror_mode": {
    "name": "ipython",
    "version": 3
   },
   "file_extension": ".py",
   "mimetype": "text/x-python",
   "name": "python",
   "nbconvert_exporter": "python",
   "pygments_lexer": "ipython3",
   "version": "3.8.12"
  },
  "vscode": {
   "interpreter": {
    "hash": "a62d3e4f09b941b4f258c514afa01f6b97bf0963addfe799c5a959f2b236a57c"
   }
  }
 },
 "nbformat": 4,
 "nbformat_minor": 5
}
